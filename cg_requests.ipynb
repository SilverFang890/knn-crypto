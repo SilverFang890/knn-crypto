{
 "cells": [
  {
   "cell_type": "markdown",
   "id": "bd9e84ab-1a65-414f-8195-76d4dd3e35ab",
   "metadata": {},
   "source": [
    "# Requesting Coin Data from CoinGecko API"
   ]
  },
  {
   "cell_type": "code",
   "execution_count": 1,
   "id": "903e8f67-53e1-48b8-a717-a4ab1881cad7",
   "metadata": {},
   "outputs": [],
   "source": [
    "import pandas as pd\n",
    "import requests\n",
    "import time\n",
    "import random"
   ]
  },
  {
   "cell_type": "markdown",
   "id": "d115fda2-5ec0-48f2-8901-f7f7e1adbadc",
   "metadata": {},
   "source": [
    "## Requesting Category Data\n",
    "The cell below sends a request to CoinGecko's API to retrieve all category ids and names. The cell is raw to prevent accidentally running, wasting another request."
   ]
  },
  {
   "cell_type": "raw",
   "id": "464d97cd-10b4-4b8a-8bbc-b44c75867cbe",
   "metadata": {},
   "source": [
    "url = \"https://api.coingecko.com/api/v3/coins/categories/list\"\n",
    "\n",
    "headers = {\n",
    "    \"accept\": \"application/json\",\n",
    "    \"x-cg-demo-api-key\": \"CG-bxR8KJCkCFEap8CazCuMY12K\"\n",
    "}\n",
    "\n",
    "categories_res = requests.get(url, headers=headers)\n",
    "\n",
    "categories = pd.DataFrame(categories_res.json())\n",
    "categories = categories[(categories['name'] == 'Layer 1 (L1)') | (categories['name'] == 'Meme')]\n",
    "categories.to_json('./src/components/data/cg_req/categories.json')"
   ]
  },
  {
   "cell_type": "markdown",
   "id": "d5e825e8-1902-4877-8a7f-6bde299de2bd",
   "metadata": {},
   "source": [
    "### Import Previously Requested Data"
   ]
  },
  {
   "cell_type": "code",
   "execution_count": null,
   "id": "459898d0-1ccf-433a-8a59-166cbcd604a3",
   "metadata": {},
   "outputs": [],
   "source": [
    "categories = pd.read_json('./src/components/data/cg_req/categories.json')\n",
    "categories"
   ]
  },
  {
   "cell_type": "markdown",
   "id": "cf8048c0-9cd8-4447-a826-10c19c5144b6",
   "metadata": {},
   "source": [
    "## Requesting Layer1 Coin Data\n",
    "The cell below sends a request to CoinGecko's API to retrieve the top 100, by market cap, <b>layer1</b> coin ids and names. The cell is raw to prevent accidentally running, wasting another request."
   ]
  },
  {
   "cell_type": "raw",
   "id": "6b2927bd-a3fd-4534-b781-2868dca3453f",
   "metadata": {},
   "source": [
    "url = \"https://api.coingecko.com/api/v3/coins/markets?vs_currency=usd&category=layer-1\"\n",
    "\n",
    "headers = {\n",
    "    \"accept\": \"application/json\",\n",
    "    \"x-cg-demo-api-key\": \"CG-bxR8KJCkCFEap8CazCuMY12K\"\n",
    "}\n",
    "\n",
    "coins_layer1_res = requests.get(url, headers=headers)\n",
    "\n",
    "coins_layer1 = (\n",
    "    pd\n",
    "    .DataFrame(coins_layer1_res.json())\n",
    "    [['id', 'name', 'market_cap_rank']]\n",
    "    .set_index('market_cap_rank')\n",
    ")\n",
    "coins_layer1.to_json('./src/components/data/cg_req/coins_layer1.json')"
   ]
  },
  {
   "cell_type": "markdown",
   "id": "788d66f7-bfea-4761-9395-3b93d6fe02c4",
   "metadata": {},
   "source": [
    "### Import Previously Requested Data"
   ]
  },
  {
   "cell_type": "code",
   "execution_count": 39,
   "id": "5d591960-a2dd-435b-8727-8f1266266ac4",
   "metadata": {},
   "outputs": [
    {
     "data": {
      "text/html": [
       "<div>\n",
       "<style scoped>\n",
       "    .dataframe tbody tr th:only-of-type {\n",
       "        vertical-align: middle;\n",
       "    }\n",
       "\n",
       "    .dataframe tbody tr th {\n",
       "        vertical-align: top;\n",
       "    }\n",
       "\n",
       "    .dataframe thead th {\n",
       "        text-align: right;\n",
       "    }\n",
       "</style>\n",
       "<table border=\"1\" class=\"dataframe\">\n",
       "  <thead>\n",
       "    <tr style=\"text-align: right;\">\n",
       "      <th></th>\n",
       "      <th>id</th>\n",
       "      <th>name</th>\n",
       "    </tr>\n",
       "  </thead>\n",
       "  <tbody>\n",
       "    <tr>\n",
       "      <th>1</th>\n",
       "      <td>bitcoin</td>\n",
       "      <td>Bitcoin</td>\n",
       "    </tr>\n",
       "    <tr>\n",
       "      <th>2</th>\n",
       "      <td>ethereum</td>\n",
       "      <td>Ethereum</td>\n",
       "    </tr>\n",
       "    <tr>\n",
       "      <th>4</th>\n",
       "      <td>binancecoin</td>\n",
       "      <td>BNB</td>\n",
       "    </tr>\n",
       "    <tr>\n",
       "      <th>5</th>\n",
       "      <td>solana</td>\n",
       "      <td>Solana</td>\n",
       "    </tr>\n",
       "    <tr>\n",
       "      <th>10</th>\n",
       "      <td>the-open-network</td>\n",
       "      <td>Toncoin</td>\n",
       "    </tr>\n",
       "    <tr>\n",
       "      <th>...</th>\n",
       "      <td>...</td>\n",
       "      <td>...</td>\n",
       "    </tr>\n",
       "    <tr>\n",
       "      <th>1360</th>\n",
       "      <td>fuse-network-token</td>\n",
       "      <td>Fuse</td>\n",
       "    </tr>\n",
       "    <tr>\n",
       "      <th>1371</th>\n",
       "      <td>chihuahua-token</td>\n",
       "      <td>Chihuahua Chain</td>\n",
       "    </tr>\n",
       "    <tr>\n",
       "      <th>1388</th>\n",
       "      <td>nuklai</td>\n",
       "      <td>Nuklai</td>\n",
       "    </tr>\n",
       "    <tr>\n",
       "      <th>1406</th>\n",
       "      <td>diamond</td>\n",
       "      <td>Diamond</td>\n",
       "    </tr>\n",
       "    <tr>\n",
       "      <th>1427</th>\n",
       "      <td>phantasma</td>\n",
       "      <td>Phantasma</td>\n",
       "    </tr>\n",
       "  </tbody>\n",
       "</table>\n",
       "<p>100 rows × 2 columns</p>\n",
       "</div>"
      ],
      "text/plain": [
       "                      id             name\n",
       "1                bitcoin          Bitcoin\n",
       "2               ethereum         Ethereum\n",
       "4            binancecoin              BNB\n",
       "5                 solana           Solana\n",
       "10      the-open-network          Toncoin\n",
       "...                  ...              ...\n",
       "1360  fuse-network-token             Fuse\n",
       "1371     chihuahua-token  Chihuahua Chain\n",
       "1388              nuklai           Nuklai\n",
       "1406             diamond          Diamond\n",
       "1427           phantasma        Phantasma\n",
       "\n",
       "[100 rows x 2 columns]"
      ]
     },
     "execution_count": 39,
     "metadata": {},
     "output_type": "execute_result"
    }
   ],
   "source": [
    "coins_layer1 = pd.read_json('./src/components/data/cg_req/coins_layer1.json')\n",
    "coins_layer1"
   ]
  },
  {
   "cell_type": "markdown",
   "id": "dc915a47-d159-4d51-a031-62504c444e45",
   "metadata": {},
   "source": [
    "## Requesting Meme Coin Data\n",
    "The cell below sends a request to CoinGecko's API to retrieve the top 100, by market cap, <b>meme</b> coin ids and names. The cell is raw to prevent accidentally running, wasting another request."
   ]
  },
  {
   "cell_type": "raw",
   "id": "eccc4106-f538-4562-a4a4-cd7ef21b9db6",
   "metadata": {},
   "source": [
    "url = \"https://api.coingecko.com/api/v3/coins/markets?vs_currency=usd&category=meme-token\"\n",
    "\n",
    "headers = {\n",
    "    \"accept\": \"application/json\",\n",
    "    \"x-cg-demo-api-key\": \"CG-bxR8KJCkCFEap8CazCuMY12K\"\n",
    "}\n",
    "\n",
    "coins_meme_res = requests.get(url, headers=headers)\n",
    "\n",
    "coins_meme = (\n",
    "    pd\n",
    "    .DataFrame(coins_meme_res.json())\n",
    "    [['id', 'name', 'market_cap_rank']]\n",
    "    .set_index('market_cap_rank')\n",
    ")\n",
    "coins_meme.to_json('./src/components/data/cg_req/coins_meme.json')"
   ]
  },
  {
   "cell_type": "markdown",
   "id": "d0b2246c-a47c-4054-8107-a9b8b3299309",
   "metadata": {},
   "source": [
    "### Import Previously Requested Data"
   ]
  },
  {
   "cell_type": "code",
   "execution_count": 40,
   "id": "c9915928-d879-44a7-8c6a-598777a3a1df",
   "metadata": {},
   "outputs": [
    {
     "data": {
      "text/html": [
       "<div>\n",
       "<style scoped>\n",
       "    .dataframe tbody tr th:only-of-type {\n",
       "        vertical-align: middle;\n",
       "    }\n",
       "\n",
       "    .dataframe tbody tr th {\n",
       "        vertical-align: top;\n",
       "    }\n",
       "\n",
       "    .dataframe thead th {\n",
       "        text-align: right;\n",
       "    }\n",
       "</style>\n",
       "<table border=\"1\" class=\"dataframe\">\n",
       "  <thead>\n",
       "    <tr style=\"text-align: right;\">\n",
       "      <th></th>\n",
       "      <th>id</th>\n",
       "      <th>name</th>\n",
       "    </tr>\n",
       "  </thead>\n",
       "  <tbody>\n",
       "    <tr>\n",
       "      <th>9</th>\n",
       "      <td>dogecoin</td>\n",
       "      <td>Dogecoin</td>\n",
       "    </tr>\n",
       "    <tr>\n",
       "      <th>12</th>\n",
       "      <td>shiba-inu</td>\n",
       "      <td>Shiba Inu</td>\n",
       "    </tr>\n",
       "    <tr>\n",
       "      <th>25</th>\n",
       "      <td>pepe</td>\n",
       "      <td>Pepe</td>\n",
       "    </tr>\n",
       "    <tr>\n",
       "      <th>48</th>\n",
       "      <td>dogwifcoin</td>\n",
       "      <td>dogwifhat</td>\n",
       "    </tr>\n",
       "    <tr>\n",
       "      <th>49</th>\n",
       "      <td>floki</td>\n",
       "      <td>FLOKI</td>\n",
       "    </tr>\n",
       "    <tr>\n",
       "      <th>...</th>\n",
       "      <td>...</td>\n",
       "      <td>...</td>\n",
       "    </tr>\n",
       "    <tr>\n",
       "      <th>1169</th>\n",
       "      <td>zeek-coin</td>\n",
       "      <td>Zeek Coin</td>\n",
       "    </tr>\n",
       "    <tr>\n",
       "      <th>1173</th>\n",
       "      <td>maga-vp</td>\n",
       "      <td>MAGA VP</td>\n",
       "    </tr>\n",
       "    <tr>\n",
       "      <th>1193</th>\n",
       "      <td>bad-idea-ai</td>\n",
       "      <td>Bad Idea AI</td>\n",
       "    </tr>\n",
       "    <tr>\n",
       "      <th>1196</th>\n",
       "      <td>polydoge</td>\n",
       "      <td>PolyDoge</td>\n",
       "    </tr>\n",
       "    <tr>\n",
       "      <th>1226</th>\n",
       "      <td>teh-epik-duck</td>\n",
       "      <td>TEH EPIK DUCK</td>\n",
       "    </tr>\n",
       "  </tbody>\n",
       "</table>\n",
       "<p>100 rows × 2 columns</p>\n",
       "</div>"
      ],
      "text/plain": [
       "                 id           name\n",
       "9          dogecoin       Dogecoin\n",
       "12        shiba-inu      Shiba Inu\n",
       "25             pepe           Pepe\n",
       "48       dogwifcoin      dogwifhat\n",
       "49            floki          FLOKI\n",
       "...             ...            ...\n",
       "1169      zeek-coin      Zeek Coin\n",
       "1173        maga-vp        MAGA VP\n",
       "1193    bad-idea-ai    Bad Idea AI\n",
       "1196       polydoge       PolyDoge\n",
       "1226  teh-epik-duck  TEH EPIK DUCK\n",
       "\n",
       "[100 rows x 2 columns]"
      ]
     },
     "execution_count": 40,
     "metadata": {},
     "output_type": "execute_result"
    }
   ],
   "source": [
    "coins_meme = pd.read_json('./src/components/data/cg_req/coins_meme.json')\n",
    "coins_meme"
   ]
  },
  {
   "cell_type": "markdown",
   "id": "ced88feb-71fe-4238-8e4e-f39487a2efe3",
   "metadata": {},
   "source": [
    "## List of Coins for Building Dataset"
   ]
  },
  {
   "cell_type": "code",
   "execution_count": null,
   "id": "b83aecd6-ea7d-4166-9b90-8375b4ccbdb9",
   "metadata": {},
   "outputs": [],
   "source": [
    "coins = []\n",
    "\n",
    "# Adding top 10 coins per category for graph (20 total)\n",
    "for coin in coins_layer1.values.tolist()[:10]:\n",
    "    coins.append(coin)\n",
    "for coin in coins_meme.values.tolist()[:10]:\n",
    "    coins.append(coin)\n",
    "\n",
    "\n",
    "# Getting 20 random coins per category besides top 10 (40 total)\n",
    "rand_layer1 = random.sample(coins_layer1.values.tolist()[10:], 20)\n",
    "rand_meme = random.sample(coins_meme.values.tolist()[10:], 20)\n",
    "\n",
    "# Adding 10 random coins per category for final model tuneing (20 total)\n",
    "for coin in rand_layer1[:10]:\n",
    "    coins.append(coin)\n",
    "for coin in rand_meme[:10]:\n",
    "    coins.append(coin)\n",
    "\n",
    "# Adding 10 more random coins per category for model demonstration (20 total)\n",
    "for coin in rand_layer1[10:]:\n",
    "    coins.append(coin)\n",
    "for coin in rand_meme[10:]:\n",
    "    coins.append(coin)\n",
    "\n",
    "print(f'Total # of Coins: {len(coins)}')\n",
    "print(f'First 3 Coins: {coins[:3]}')"
   ]
  },
  {
   "cell_type": "markdown",
   "id": "c51f4310-285f-45ae-ba14-ecb0ea5b3ed8",
   "metadata": {},
   "source": [
    "## Function For Requesting Historical Price Data"
   ]
  },
  {
   "cell_type": "code",
   "execution_count": null,
   "id": "2fa42b85-6b83-49fb-972c-5267b0028b9a",
   "metadata": {},
   "outputs": [],
   "source": [
    "def get_coin_data(coin_id, coin_name):\n",
    "    url = f\"https://api.coingecko.com/api/v3/coins/{coin_id}/market_chart?vs_currency=usd&days=365&interval=daily\"\n",
    "    headers = {\n",
    "        \"accept\": \"application/json\",\n",
    "        \"x-cg-demo-api-key\": \"CG-bxR8KJCkCFEap8CazCuMY12K\"\n",
    "    }\n",
    "    response = requests.get(url, headers=headers)\n",
    "\n",
    "    coin_data = pd.DataFrame(response.json())\n",
    "    coin_data = pd.DataFrame(coin_data['prices'].to_list(), columns=['date', f'{coin_name}'])\n",
    "    coin_data['date'] = pd.to_datetime(coin_data['date'], unit='ms').dt.strftime('%m-%d-%Y')\n",
    "    coin_data = coin_data.set_index('date')\n",
    "\n",
    "    return coin_data[f'{coin_name}'] # Series with index=data, values=prices, name=coin_name"
   ]
  },
  {
   "cell_type": "markdown",
   "id": "c44da6f8-76af-4578-9598-70c59ee8a925",
   "metadata": {},
   "source": [
    "## !! Makes Many Requests !!\n",
    "### Build List of Historical Price Data for Each Coin\n",
    "Calls <code>get_coin_data</code> to request historical price data for each coin. <b>60 Requests!</b> Cell is raw to prevent accidentally running."
   ]
  },
  {
   "cell_type": "raw",
   "id": "43e7663e-d091-4244-9daa-6679ceb6128b",
   "metadata": {},
   "source": [
    "coin_series = []\n",
    "for i in range(len(coins)):\n",
    "    if (i+1)%25 == 0:\n",
    "        time.sleep(60)\n",
    "    coin_series.append(get_coin_data(coins[i][0], coins[i][1]))\n",
    "\n",
    "coin_series"
   ]
  },
  {
   "cell_type": "markdown",
   "id": "bb139d7f-1567-46cc-885a-ccb1698f07b1",
   "metadata": {},
   "source": [
    "Data cleaning for coin data that have duplicate last index due to price data of incomplete day."
   ]
  },
  {
   "cell_type": "raw",
   "id": "1b998f9b-4dbe-40f1-9c72-ed6ea3654372",
   "metadata": {},
   "source": [
    "for i in range(len(coin_series)):\n",
    "    series_len = len(coin_series[i])\n",
    "    if coin_series[i].index[series_len-1] == coin_series[i].index[series_len-2]:\n",
    "        coin_series[i] = coin_series[i][:series_len-1]\n",
    "\n",
    "coin_series"
   ]
  },
  {
   "cell_type": "markdown",
   "id": "a19e8b21-aec0-4842-a6a7-ab2a6aba3734",
   "metadata": {},
   "source": [
    "### Export coin_series"
   ]
  },
  {
   "cell_type": "raw",
   "id": "819a74ee-d294-441a-ab06-05dc26575207",
   "metadata": {
    "scrolled": true
   },
   "source": [
    "all_coins = pd.DataFrame(coin_series).T\n",
    "all_coins.to_json('./src/components/data/all_coins.json')"
   ]
  },
  {
   "cell_type": "markdown",
   "id": "800e7484-9b62-482e-9a9a-b32f9d355644",
   "metadata": {},
   "source": [
    "### Import Previously Retrieved coin_series"
   ]
  },
  {
   "cell_type": "code",
   "execution_count": null,
   "id": "552a8809-6075-42dc-a0bf-6f2cf2d40de7",
   "metadata": {
    "scrolled": true
   },
   "outputs": [],
   "source": [
    "coin_series = []\n",
    "\n",
    "for col in all_data.columns:\n",
    "    coin_series.append(all_data[col])\n",
    "\n",
    "coin_series;"
   ]
  },
  {
   "cell_type": "markdown",
   "id": "acd055ef-bccf-4776-8b06-103c18df324b",
   "metadata": {},
   "source": [
    "## Creating Datasets"
   ]
  },
  {
   "cell_type": "code",
   "execution_count": null,
   "id": "0257897e-e097-4e5b-9748-ada1f6c1d168",
   "metadata": {
    "scrolled": true
   },
   "outputs": [],
   "source": [
    "graph_coins = pd.DataFrame(coin_series[:20]).T\n",
    "graph_coins;"
   ]
  },
  {
   "cell_type": "code",
   "execution_count": null,
   "id": "27460b73-0f48-4ed0-aa60-d822ca490650",
   "metadata": {
    "scrolled": true
   },
   "outputs": [],
   "source": [
    "model_coins = pd.DataFrame(coin_series[:40]).T\n",
    "model_coins;"
   ]
  },
  {
   "cell_type": "code",
   "execution_count": null,
   "id": "8bcd3e33-d5ea-4f6b-b1f7-04ca7b91fc81",
   "metadata": {
    "scrolled": true
   },
   "outputs": [],
   "source": [
    "demo_coins = pd.DataFrame(coin_series[40:]).T\n",
    "demo_coins;"
   ]
  },
  {
   "cell_type": "markdown",
   "id": "573bfc24-7bc9-45e2-b8a5-95bcb084494f",
   "metadata": {},
   "source": [
    "## Exporting Datasets"
   ]
  },
  {
   "cell_type": "raw",
   "id": "02e23273-5040-46e2-96ba-68e23463bc82",
   "metadata": {},
   "source": [
    "graph_coins.to_json('./src/components/data/graph_coins.json')\n",
    "model_coins.to_json('./src/components/data/model_coins.json')\n",
    "demo_coins.to_json('./src/components/data/demo_coins.json')"
   ]
  },
  {
   "cell_type": "markdown",
   "id": "9a9a528f-94c8-44ce-af36-74b457057024",
   "metadata": {},
   "source": [
    "## Importing Datasets"
   ]
  },
  {
   "cell_type": "code",
   "execution_count": null,
   "id": "67d95a68-40a3-4bb8-8725-c02f110b6290",
   "metadata": {
    "scrolled": true
   },
   "outputs": [],
   "source": [
    "graph_coins = pd.read_json('./src/components/data/graph_coins.json')\n",
    "graph_coins;"
   ]
  },
  {
   "cell_type": "markdown",
   "id": "ccdda3e8-0207-43c1-943a-1f56c1fc6229",
   "metadata": {},
   "source": [
    "Reordered coin column order for better graph interaction"
   ]
  },
  {
   "cell_type": "raw",
   "id": "5efbbd65-78a4-4cd7-a07f-7eec1cd0ab73",
   "metadata": {},
   "source": [
    "sorted_graph = graph_coins.max().sort_values(ascending=False).index\n",
    "\n",
    "g_coin_series = []\n",
    "for coin in sorted_graph:\n",
    "    g_coin_series.append(graph_data[coin])\n",
    "\n",
    "graph_coins = pd.DataFrame(g_coin_series).T\n",
    "graph_coins.to_json('./src/components/data/graph_coins.json')"
   ]
  },
  {
   "cell_type": "code",
   "execution_count": null,
   "id": "3acdae60-ed2c-45f0-bdaf-176953b06561",
   "metadata": {},
   "outputs": [],
   "source": []
  },
  {
   "cell_type": "code",
   "execution_count": 99,
   "id": "c13eb74b-4bbf-4ed7-82c6-6d55cc463dcf",
   "metadata": {
    "scrolled": true
   },
   "outputs": [],
   "source": [
    "model_coins = pd.read_json('./src/components/data/model_coins.json')\n",
    "model_coins;"
   ]
  },
  {
   "cell_type": "code",
   "execution_count": null,
   "id": "4814e854-7d10-4995-a442-b8686103996a",
   "metadata": {},
   "outputs": [],
   "source": []
  },
  {
   "cell_type": "code",
   "execution_count": 120,
   "id": "da7de86b-dd13-404d-8cac-ce72429b738a",
   "metadata": {},
   "outputs": [],
   "source": [
    "demo_coins = pd.read_json('./src/components/data/demo_coins.json')\n",
    "demo_coins;"
   ]
  },
  {
   "cell_type": "raw",
   "id": "13b9f9d6-4748-44bc-bfa7-f7737f36e68a",
   "metadata": {
    "scrolled": true
   },
   "source": [
    "# Importing Final KNN Classifier\n",
    "%run ./final_classifier.ipynb"
   ]
  },
  {
   "cell_type": "raw",
   "id": "4117bf2a-06bd-47e4-939d-f959507935ef",
   "metadata": {},
   "source": [
    "sorted_graph = demo_coins.max().sort_values(ascending=False).index\n",
    "\n",
    "d_coin_series = []\n",
    "for coin in sorted_graph:\n",
    "    d_coin_series.append(demo_coins[coin])\n",
    "\n",
    "demo_coins = pd.DataFrame(d_coin_series).T\n",
    "\n",
    "demo_data = demo_coins\n",
    "demo_data.index = demo_data.index.strftime('%m/%d/%Y')\n",
    "demo_data = demo_data.bfill().T\n",
    "\n",
    "pred_labels = knn_classifier.predict(demo_data)\n",
    "\n",
    "def is_true_category(coin_name, pred):\n",
    "    true_c = ''\n",
    "    if coin_name in coins_meme['name'].tolist():\n",
    "        true_c = 'meme'\n",
    "    if coin_name in coins_layer1['name'].tolist():\n",
    "        true_c = 'layer1'\n",
    "\n",
    "    return pred == true_c\n",
    "\n",
    "\n",
    "demo_coins = demo_coins.T.assign(pred_category=pred_labels)\n",
    "is_category = demo_coins.apply(lambda x: is_true_category(x.name, x.loc['pred_category']), axis=1)\n",
    "demo_coins = demo_coins.assign(pred_result=is_category).T\n",
    "\n",
    "demo_coins.to_json('./src/components/data/demo_coins.json')"
   ]
  },
  {
   "cell_type": "raw",
   "id": "b1affe58-5a9d-4803-9df6-9afaaf4de0f1",
   "metadata": {},
   "source": [
    "demo_coins = demo_coins.T[demo_coins.T.columns[:-2]].T\n",
    "demo_coins.to_json('./src/components/data/demo_coins.json')"
   ]
  }
 ],
 "metadata": {
  "kernelspec": {
   "display_name": "Python 3 (ipykernel)",
   "language": "python",
   "name": "python3"
  },
  "language_info": {
   "codemirror_mode": {
    "name": "ipython",
    "version": 3
   },
   "file_extension": ".py",
   "mimetype": "text/x-python",
   "name": "python",
   "nbconvert_exporter": "python",
   "pygments_lexer": "ipython3",
   "version": "3.10.13"
  }
 },
 "nbformat": 4,
 "nbformat_minor": 5
}
