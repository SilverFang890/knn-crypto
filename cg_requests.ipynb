{
 "cells": [
  {
   "cell_type": "code",
   "execution_count": 13,
   "id": "903e8f67-53e1-48b8-a717-a4ab1881cad7",
   "metadata": {},
   "outputs": [],
   "source": [
    "import pandas as pd\n",
    "from io import StringIO\n",
    "import requests"
   ]
  },
  {
   "cell_type": "code",
   "execution_count": 205,
   "id": "c645ac49-20bb-47e5-ba33-cb370e8f763d",
   "metadata": {},
   "outputs": [],
   "source": [
    "def get_coin_prices(coin):\n",
    "    url = f\"https://api.coingecko.com/api/v3/coins/{coin}/market_chart?vs_currency=usd&days=365&interval=daily\"\n",
    "    headers = {\n",
    "        \"accept\": \"application/json\",\n",
    "        \"x-cg-demo-api-key\": \"CG-bxR8KJCkCFEap8CazCuMY12K\"\n",
    "    }\n",
    "    response = requests.get(url, headers=headers)\n",
    "\n",
    "    coin_p = pd.read_json(StringIO(response.text))\n",
    "    coin_p = pd.DataFrame(coin_p['prices'].to_list(), columns=['date', 'prices'])\n",
    "    coin_p['date'] = pd.to_datetime(coin_p['date'], unit='ms').dt.strftime('%m-%d-%Y')\n",
    "\n",
    "    coin_p.to_csv(f\"./data/{coin}.csv\", header=False, index=False)"
   ]
  },
  {
   "cell_type": "code",
   "execution_count": 206,
   "id": "b5512c90-9bba-4801-8a8d-c814b0a3a01c",
   "metadata": {},
   "outputs": [],
   "source": [
    "coins = [\n",
    "    'bitcoin',\n",
    "    'ethereum',\n",
    "    'binancecoin',\n",
    "    'solana',\n",
    "    'the-open-network',\n",
    "    'cardano',\n",
    "    'avalanche-2',\n",
    "    'tron',\n",
    "    'bitcoin-cash',\n",
    "    'near',\n",
    "    \n",
    "    'dogecoin',\n",
    "    'shiba-inu',\n",
    "    'pepe',\n",
    "    'dogwifcoin',\n",
    "    'bonk',\n",
    "    'floki',\n",
    "    'book-of-meme',\n",
    "    'corgiai',\n",
    "    'based-brett',\n",
    "    'pepecoin-2'\n",
    "]"
   ]
  },
  {
   "cell_type": "code",
   "execution_count": 207,
   "id": "836f4c0f-342b-424b-a1e9-b7c5a396365e",
   "metadata": {},
   "outputs": [],
   "source": [
    "for coin in coins:\n",
    "    get_coin_prices(coin)"
   ]
  }
 ],
 "metadata": {
  "kernelspec": {
   "display_name": "Python 3 (ipykernel)",
   "language": "python",
   "name": "python3"
  },
  "language_info": {
   "codemirror_mode": {
    "name": "ipython",
    "version": 3
   },
   "file_extension": ".py",
   "mimetype": "text/x-python",
   "name": "python",
   "nbconvert_exporter": "python",
   "pygments_lexer": "ipython3",
   "version": "3.10.13"
  }
 },
 "nbformat": 4,
 "nbformat_minor": 5
}
